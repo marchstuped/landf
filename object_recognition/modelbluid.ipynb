{
  "nbformat": 4,
  "nbformat_minor": 0,
  "metadata": {
    "colab": {
      "name": "modelbluid.ipynb",
      "provenance": [],
      "collapsed_sections": []
    },
    "kernelspec": {
      "name": "python3",
      "display_name": "Python 3"
    }
  },
  "cells": [
    {
      "cell_type": "code",
      "metadata": {
        "id": "S19l-OF4PrEW",
        "colab_type": "code",
        "colab": {
          "base_uri": "https://localhost:8080/",
          "height": 121
        },
        "outputId": "68ecd4e9-7ef9-4631-bcc3-bc3c5b1d3847"
      },
      "source": [
        "from google.colab import drive\n",
        "drive.mount('/content/gdrive')"
      ],
      "execution_count": null,
      "outputs": [
        {
          "output_type": "stream",
          "text": [
            "Go to this URL in a browser: https://accounts.google.com/o/oauth2/auth?client_id=947318989803-6bn6qk8qdgf4n4g3pfee6491hc0brc4i.apps.googleusercontent.com&redirect_uri=urn%3aietf%3awg%3aoauth%3a2.0%3aoob&response_type=code&scope=email%20https%3a%2f%2fwww.googleapis.com%2fauth%2fdocs.test%20https%3a%2f%2fwww.googleapis.com%2fauth%2fdrive%20https%3a%2f%2fwww.googleapis.com%2fauth%2fdrive.photos.readonly%20https%3a%2f%2fwww.googleapis.com%2fauth%2fpeopleapi.readonly\n",
            "\n",
            "Enter your authorization code:\n",
            "··········\n",
            "Mounted at /content/gdrive\n"
          ],
          "name": "stdout"
        }
      ]
    },
    {
      "cell_type": "code",
      "metadata": {
        "id": "pue6E3MElbz3",
        "colab_type": "code",
        "colab": {
          "base_uri": "https://localhost:8080/",
          "height": 777
        },
        "outputId": "84299679-f079-40b2-da03-634f5ad38db8"
      },
      "source": [
        "!pip install tensorflow==1.14"
      ],
      "execution_count": null,
      "outputs": [
        {
          "output_type": "stream",
          "text": [
            "Collecting tensorflow==1.14\n",
            "\u001b[?25l  Downloading https://files.pythonhosted.org/packages/de/f0/96fb2e0412ae9692dbf400e5b04432885f677ad6241c088ccc5fe7724d69/tensorflow-1.14.0-cp36-cp36m-manylinux1_x86_64.whl (109.2MB)\n",
            "\u001b[K     |████████████████████████████████| 109.2MB 47kB/s \n",
            "\u001b[?25hRequirement already satisfied: keras-preprocessing>=1.0.5 in /usr/local/lib/python3.6/dist-packages (from tensorflow==1.14) (1.1.2)\n",
            "Requirement already satisfied: astor>=0.6.0 in /usr/local/lib/python3.6/dist-packages (from tensorflow==1.14) (0.8.1)\n",
            "Requirement already satisfied: keras-applications>=1.0.6 in /usr/local/lib/python3.6/dist-packages (from tensorflow==1.14) (1.0.8)\n",
            "Requirement already satisfied: absl-py>=0.7.0 in /usr/local/lib/python3.6/dist-packages (from tensorflow==1.14) (0.9.0)\n",
            "Requirement already satisfied: google-pasta>=0.1.6 in /usr/local/lib/python3.6/dist-packages (from tensorflow==1.14) (0.2.0)\n",
            "Requirement already satisfied: six>=1.10.0 in /usr/local/lib/python3.6/dist-packages (from tensorflow==1.14) (1.12.0)\n",
            "Collecting tensorboard<1.15.0,>=1.14.0\n",
            "\u001b[?25l  Downloading https://files.pythonhosted.org/packages/91/2d/2ed263449a078cd9c8a9ba50ebd50123adf1f8cfbea1492f9084169b89d9/tensorboard-1.14.0-py3-none-any.whl (3.1MB)\n",
            "\u001b[K     |████████████████████████████████| 3.2MB 32.9MB/s \n",
            "\u001b[?25hRequirement already satisfied: numpy<2.0,>=1.14.5 in /usr/local/lib/python3.6/dist-packages (from tensorflow==1.14) (1.18.4)\n",
            "Requirement already satisfied: termcolor>=1.1.0 in /usr/local/lib/python3.6/dist-packages (from tensorflow==1.14) (1.1.0)\n",
            "Requirement already satisfied: protobuf>=3.6.1 in /usr/local/lib/python3.6/dist-packages (from tensorflow==1.14) (3.10.0)\n",
            "Requirement already satisfied: grpcio>=1.8.6 in /usr/local/lib/python3.6/dist-packages (from tensorflow==1.14) (1.29.0)\n",
            "Requirement already satisfied: wrapt>=1.11.1 in /usr/local/lib/python3.6/dist-packages (from tensorflow==1.14) (1.12.1)\n",
            "Collecting tensorflow-estimator<1.15.0rc0,>=1.14.0rc0\n",
            "\u001b[?25l  Downloading https://files.pythonhosted.org/packages/3c/d5/21860a5b11caf0678fbc8319341b0ae21a07156911132e0e71bffed0510d/tensorflow_estimator-1.14.0-py2.py3-none-any.whl (488kB)\n",
            "\u001b[K     |████████████████████████████████| 491kB 53.1MB/s \n",
            "\u001b[?25hRequirement already satisfied: wheel>=0.26 in /usr/local/lib/python3.6/dist-packages (from tensorflow==1.14) (0.34.2)\n",
            "Requirement already satisfied: gast>=0.2.0 in /usr/local/lib/python3.6/dist-packages (from tensorflow==1.14) (0.3.3)\n",
            "Requirement already satisfied: h5py in /usr/local/lib/python3.6/dist-packages (from keras-applications>=1.0.6->tensorflow==1.14) (2.10.0)\n",
            "Requirement already satisfied: markdown>=2.6.8 in /usr/local/lib/python3.6/dist-packages (from tensorboard<1.15.0,>=1.14.0->tensorflow==1.14) (3.2.2)\n",
            "Requirement already satisfied: setuptools>=41.0.0 in /usr/local/lib/python3.6/dist-packages (from tensorboard<1.15.0,>=1.14.0->tensorflow==1.14) (47.1.1)\n",
            "Requirement already satisfied: werkzeug>=0.11.15 in /usr/local/lib/python3.6/dist-packages (from tensorboard<1.15.0,>=1.14.0->tensorflow==1.14) (1.0.1)\n",
            "Requirement already satisfied: importlib-metadata; python_version < \"3.8\" in /usr/local/lib/python3.6/dist-packages (from markdown>=2.6.8->tensorboard<1.15.0,>=1.14.0->tensorflow==1.14) (1.6.0)\n",
            "Requirement already satisfied: zipp>=0.5 in /usr/local/lib/python3.6/dist-packages (from importlib-metadata; python_version < \"3.8\"->markdown>=2.6.8->tensorboard<1.15.0,>=1.14.0->tensorflow==1.14) (3.1.0)\n",
            "Installing collected packages: tensorboard, tensorflow-estimator, tensorflow\n",
            "  Found existing installation: tensorboard 2.2.2\n",
            "    Uninstalling tensorboard-2.2.2:\n",
            "      Successfully uninstalled tensorboard-2.2.2\n",
            "  Found existing installation: tensorflow-estimator 2.2.0\n",
            "    Uninstalling tensorflow-estimator-2.2.0:\n",
            "      Successfully uninstalled tensorflow-estimator-2.2.0\n",
            "  Found existing installation: tensorflow 2.2.0\n",
            "    Uninstalling tensorflow-2.2.0:\n",
            "      Successfully uninstalled tensorflow-2.2.0\n",
            "Successfully installed tensorboard-1.14.0 tensorflow-1.14.0 tensorflow-estimator-1.14.0\n"
          ],
          "name": "stdout"
        },
        {
          "output_type": "display_data",
          "data": {
            "application/vnd.colab-display-data+json": {
              "pip_warning": {
                "packages": [
                  "tensorboard",
                  "tensorflow"
                ]
              }
            }
          },
          "metadata": {
            "tags": []
          }
        }
      ]
    },
    {
      "cell_type": "code",
      "metadata": {
        "id": "CRq8xc0yoN7C",
        "colab_type": "code",
        "colab": {
          "base_uri": "https://localhost:8080/",
          "height": 168
        },
        "outputId": "b025e4b5-3241-4a91-815a-0e6ce35df9ca"
      },
      "source": [
        "!pip install numpy\n",
        "!pip install keras"
      ],
      "execution_count": null,
      "outputs": [
        {
          "output_type": "stream",
          "text": [
            "Requirement already satisfied: numpy in /usr/local/lib/python3.6/dist-packages (1.18.4)\n",
            "Requirement already satisfied: keras in /usr/local/lib/python3.6/dist-packages (2.3.1)\n",
            "Requirement already satisfied: keras-preprocessing>=1.0.5 in /usr/local/lib/python3.6/dist-packages (from keras) (1.1.2)\n",
            "Requirement already satisfied: numpy>=1.9.1 in /usr/local/lib/python3.6/dist-packages (from keras) (1.18.4)\n",
            "Requirement already satisfied: h5py in /usr/local/lib/python3.6/dist-packages (from keras) (2.10.0)\n",
            "Requirement already satisfied: scipy>=0.14 in /usr/local/lib/python3.6/dist-packages (from keras) (1.4.1)\n",
            "Requirement already satisfied: pyyaml in /usr/local/lib/python3.6/dist-packages (from keras) (3.13)\n",
            "Requirement already satisfied: keras-applications>=1.0.6 in /usr/local/lib/python3.6/dist-packages (from keras) (1.0.8)\n",
            "Requirement already satisfied: six>=1.9.0 in /usr/local/lib/python3.6/dist-packages (from keras) (1.12.0)\n"
          ],
          "name": "stdout"
        }
      ]
    },
    {
      "cell_type": "code",
      "metadata": {
        "id": "BAB6qgp8Qyp7",
        "colab_type": "code",
        "colab": {
          "base_uri": "https://localhost:8080/",
          "height": 840
        },
        "outputId": "da4d6c3a-d89a-44a1-a847-602ddda9cd4e"
      },
      "source": [
        "from google.colab import drive\n",
        "\n",
        "drive.mount('/content/gdrive')\n",
        "\n",
        "\n",
        "import os, random, shutil\n",
        "import matplotlib.pyplot as plt\n",
        "import numpy as np\n",
        "from keras.preprocessing import image\n",
        "from keras.preprocessing.image import ImageDataGenerator\n",
        "from keras.applications import VGG16\n",
        "\n",
        "\n",
        "##\n",
        "base_dir = 'gdrive/My Drive/backup/data/'\n",
        "train_dir = 'gdrive/My Drive/backup/data/train'\n",
        "test_dir = os.path.join(base_dir, 'test')\n",
        "\n",
        "train_size, validation_size, test_size = 4035, 0, 450\n",
        "\n",
        "img_width, img_height = 224, 224  # Default input size for VGG16\n",
        "\n",
        "##\n",
        "conv_base = VGG16(weights='imagenet', \n",
        "                  include_top=False,\n",
        "                  input_shape=(img_width, img_height, 3))\n",
        "conv_base.summary()\n",
        "\n",
        "datagen = ImageDataGenerator(rescale=1./255)\n",
        "batch_size = 128\n",
        "\n"
      ],
      "execution_count": null,
      "outputs": [
        {
          "output_type": "stream",
          "text": [
            "Drive already mounted at /content/gdrive; to attempt to forcibly remount, call drive.mount(\"/content/gdrive\", force_remount=True).\n",
            "Downloading data from https://github.com/fchollet/deep-learning-models/releases/download/v0.1/vgg16_weights_tf_dim_ordering_tf_kernels_notop.h5\n",
            "58892288/58889256 [==============================] - 6s 0us/step\n",
            "Model: \"vgg16\"\n",
            "_________________________________________________________________\n",
            "Layer (type)                 Output Shape              Param #   \n",
            "=================================================================\n",
            "input_1 (InputLayer)         (None, 224, 224, 3)       0         \n",
            "_________________________________________________________________\n",
            "block1_conv1 (Conv2D)        (None, 224, 224, 64)      1792      \n",
            "_________________________________________________________________\n",
            "block1_conv2 (Conv2D)        (None, 224, 224, 64)      36928     \n",
            "_________________________________________________________________\n",
            "block1_pool (MaxPooling2D)   (None, 112, 112, 64)      0         \n",
            "_________________________________________________________________\n",
            "block2_conv1 (Conv2D)        (None, 112, 112, 128)     73856     \n",
            "_________________________________________________________________\n",
            "block2_conv2 (Conv2D)        (None, 112, 112, 128)     147584    \n",
            "_________________________________________________________________\n",
            "block2_pool (MaxPooling2D)   (None, 56, 56, 128)       0         \n",
            "_________________________________________________________________\n",
            "block3_conv1 (Conv2D)        (None, 56, 56, 256)       295168    \n",
            "_________________________________________________________________\n",
            "block3_conv2 (Conv2D)        (None, 56, 56, 256)       590080    \n",
            "_________________________________________________________________\n",
            "block3_conv3 (Conv2D)        (None, 56, 56, 256)       590080    \n",
            "_________________________________________________________________\n",
            "block3_pool (MaxPooling2D)   (None, 28, 28, 256)       0         \n",
            "_________________________________________________________________\n",
            "block4_conv1 (Conv2D)        (None, 28, 28, 512)       1180160   \n",
            "_________________________________________________________________\n",
            "block4_conv2 (Conv2D)        (None, 28, 28, 512)       2359808   \n",
            "_________________________________________________________________\n",
            "block4_conv3 (Conv2D)        (None, 28, 28, 512)       2359808   \n",
            "_________________________________________________________________\n",
            "block4_pool (MaxPooling2D)   (None, 14, 14, 512)       0         \n",
            "_________________________________________________________________\n",
            "block5_conv1 (Conv2D)        (None, 14, 14, 512)       2359808   \n",
            "_________________________________________________________________\n",
            "block5_conv2 (Conv2D)        (None, 14, 14, 512)       2359808   \n",
            "_________________________________________________________________\n",
            "block5_conv3 (Conv2D)        (None, 14, 14, 512)       2359808   \n",
            "_________________________________________________________________\n",
            "block5_pool (MaxPooling2D)   (None, 7, 7, 512)         0         \n",
            "=================================================================\n",
            "Total params: 14,714,688\n",
            "Trainable params: 14,714,688\n",
            "Non-trainable params: 0\n",
            "_________________________________________________________________\n"
          ],
          "name": "stdout"
        }
      ]
    },
    {
      "cell_type": "code",
      "metadata": {
        "id": "UXINPObg9nRW",
        "colab_type": "code",
        "colab": {
          "base_uri": "https://localhost:8080/",
          "height": 50
        },
        "outputId": "762cf000-4307-422a-a898-d50b0e4e7ace"
      },
      "source": [
        "def extract_features(directory, sample_count):\n",
        "    features = np.zeros(shape=(sample_count, 7, 7, 512))  # Must be equal to the output of the convolutional base\n",
        "    labels = np.zeros(shape=(sample_count , 9))\n",
        "    # Preprocess data\n",
        "    generator = datagen.flow_from_directory(directory,\n",
        "                                            batch_size=batch_size,\n",
        "                                            shuffle=True,\n",
        "                                            target_size=(img_height, img_width),\n",
        "                                            classes = list(np.array([\"bag\",\"backpack\",\"iphone\",\"huawei\",\"samsung\",\"wallet\",\"pen\",\"watch\",\"other\"])))\n",
        "    # Pass data through convolutional base\n",
        "    i = 0\n",
        "    for inputs_batch, labels_batch in generator:\n",
        "        features_batch = conv_base.predict(inputs_batch)\n",
        "        features[i * batch_size: (i + 1) * batch_size] = features_batch\n",
        "        labels[i * batch_size: (i + 1) * batch_size] = labels_batch\n",
        "        i += 1\n",
        "        if i * batch_size >= sample_count:\n",
        "            break\n",
        "    return features, labels\n",
        "train_features, train_labels = extract_features(train_dir, train_size)\n",
        "test_features, test_labels = extract_features(test_dir, test_size)\n"
      ],
      "execution_count": null,
      "outputs": [
        {
          "output_type": "stream",
          "text": [
            "Found 4035 images belonging to 9 classes.\n",
            "Found 450 images belonging to 9 classes.\n"
          ],
          "name": "stdout"
        }
      ]
    },
    {
      "cell_type": "code",
      "metadata": {
        "id": "ypP9N3RH3FYa",
        "colab_type": "code",
        "colab": {
          "base_uri": "https://localhost:8080/",
          "height": 286
        },
        "outputId": "a0e220ab-b669-4780-d665-85a4b3172674"
      },
      "source": [
        "from keras import models\n",
        "from keras import layers\n",
        "from keras import optimizers\n",
        "\n",
        "epochs = 40\n",
        "\n",
        "model = models.Sequential()\n",
        "model.add(layers.Flatten(input_shape=(7,7,512)))\n",
        "model.add(layers.Dense(256, activation='relu', input_dim=(7*7*512)))\n",
        "model.add(layers.Dropout(0.5))\n",
        "model.add(layers.Dense(9, activation='sigmoid'))\n",
        "model.summary()"
      ],
      "execution_count": null,
      "outputs": [
        {
          "output_type": "stream",
          "text": [
            "Model: \"sequential_2\"\n",
            "_________________________________________________________________\n",
            "Layer (type)                 Output Shape              Param #   \n",
            "=================================================================\n",
            "flatten_2 (Flatten)          (None, 25088)             0         \n",
            "_________________________________________________________________\n",
            "dense_3 (Dense)              (None, 256)               6422784   \n",
            "_________________________________________________________________\n",
            "dropout_2 (Dropout)          (None, 256)               0         \n",
            "_________________________________________________________________\n",
            "dense_4 (Dense)              (None, 9)                 2313      \n",
            "=================================================================\n",
            "Total params: 6,425,097\n",
            "Trainable params: 6,425,097\n",
            "Non-trainable params: 0\n",
            "_________________________________________________________________\n"
          ],
          "name": "stdout"
        }
      ]
    },
    {
      "cell_type": "code",
      "metadata": {
        "id": "38pxnYZy3HNT",
        "colab_type": "code",
        "colab": {}
      },
      "source": [
        "model.compile(optimizer=optimizers.Adam(),\n",
        "              loss='categorical_crossentropy',\n",
        "              metrics=['acc'])"
      ],
      "execution_count": null,
      "outputs": []
    },
    {
      "cell_type": "code",
      "metadata": {
        "id": "rD0G8Zrn358t",
        "colab_type": "code",
        "colab": {
          "base_uri": "https://localhost:8080/",
          "height": 1000
        },
        "outputId": "42d4ec0c-7a2a-476e-8b6d-55a6d7a3fa44"
      },
      "source": [
        "history = model.fit(train_features, train_labels,\n",
        "                    epochs=epochs,\n",
        "                    batch_size=batch_size)"
      ],
      "execution_count": null,
      "outputs": [
        {
          "output_type": "stream",
          "text": [
            "Epoch 1/40\n",
            "4035/4035 [==============================] - 5s 1ms/step - loss: 1.6623 - acc: 0.3266\n",
            "Epoch 2/40\n",
            "4035/4035 [==============================] - 4s 1ms/step - loss: 0.9125 - acc: 0.6974\n",
            "Epoch 3/40\n",
            "4035/4035 [==============================] - 4s 1ms/step - loss: 0.4886 - acc: 0.8325\n",
            "Epoch 4/40\n",
            "4035/4035 [==============================] - 4s 1ms/step - loss: 0.3134 - acc: 0.8919\n",
            "Epoch 5/40\n",
            "4035/4035 [==============================] - 4s 1ms/step - loss: 0.2382 - acc: 0.9222\n",
            "Epoch 6/40\n",
            "4035/4035 [==============================] - 4s 1ms/step - loss: 0.1806 - acc: 0.9363\n",
            "Epoch 7/40\n",
            "4035/4035 [==============================] - 4s 1ms/step - loss: 0.1530 - acc: 0.9467\n",
            "Epoch 8/40\n",
            "4035/4035 [==============================] - 4s 1ms/step - loss: 0.1229 - acc: 0.9606\n",
            "Epoch 9/40\n",
            "4035/4035 [==============================] - 4s 1ms/step - loss: 0.0979 - acc: 0.9678\n",
            "Epoch 10/40\n",
            "4035/4035 [==============================] - 4s 1ms/step - loss: 0.0805 - acc: 0.9720\n",
            "Epoch 11/40\n",
            "4035/4035 [==============================] - 4s 1ms/step - loss: 0.0727 - acc: 0.9772\n",
            "Epoch 12/40\n",
            "4035/4035 [==============================] - 4s 1ms/step - loss: 0.0569 - acc: 0.9804\n",
            "Epoch 13/40\n",
            "4035/4035 [==============================] - 4s 1ms/step - loss: 0.0548 - acc: 0.9812\n",
            "Epoch 14/40\n",
            "4035/4035 [==============================] - 4s 1ms/step - loss: 0.0435 - acc: 0.9864\n",
            "Epoch 15/40\n",
            "4035/4035 [==============================] - 4s 1ms/step - loss: 0.0355 - acc: 0.9886\n",
            "Epoch 16/40\n",
            "4035/4035 [==============================] - 4s 1ms/step - loss: 0.0361 - acc: 0.9891\n",
            "Epoch 17/40\n",
            "4035/4035 [==============================] - 4s 1ms/step - loss: 0.0326 - acc: 0.9896\n",
            "Epoch 18/40\n",
            "4035/4035 [==============================] - 4s 1ms/step - loss: 0.0376 - acc: 0.9888\n",
            "Epoch 19/40\n",
            "4035/4035 [==============================] - 4s 1ms/step - loss: 0.0257 - acc: 0.9931\n",
            "Epoch 20/40\n",
            "4035/4035 [==============================] - 4s 1ms/step - loss: 0.0305 - acc: 0.9916\n",
            "Epoch 21/40\n",
            "4035/4035 [==============================] - 4s 1ms/step - loss: 0.0295 - acc: 0.9886\n",
            "Epoch 22/40\n",
            "4035/4035 [==============================] - 4s 1ms/step - loss: 0.0202 - acc: 0.9953\n",
            "Epoch 23/40\n",
            "4035/4035 [==============================] - 4s 1ms/step - loss: 0.0179 - acc: 0.9938\n",
            "Epoch 24/40\n",
            "4035/4035 [==============================] - 4s 1ms/step - loss: 0.0198 - acc: 0.9941\n",
            "Epoch 25/40\n",
            "4035/4035 [==============================] - 4s 1ms/step - loss: 0.0180 - acc: 0.9950\n",
            "Epoch 26/40\n",
            "4035/4035 [==============================] - 4s 1ms/step - loss: 0.0211 - acc: 0.9938\n",
            "Epoch 27/40\n",
            "4035/4035 [==============================] - 4s 1ms/step - loss: 0.0187 - acc: 0.9938\n",
            "Epoch 28/40\n",
            "4035/4035 [==============================] - 4s 1ms/step - loss: 0.0196 - acc: 0.9928\n",
            "Epoch 29/40\n",
            "4035/4035 [==============================] - 4s 1ms/step - loss: 0.0197 - acc: 0.9948\n",
            "Epoch 30/40\n",
            "4035/4035 [==============================] - 4s 1ms/step - loss: 0.0168 - acc: 0.9945\n",
            "Epoch 31/40\n",
            "4035/4035 [==============================] - 4s 1ms/step - loss: 0.0127 - acc: 0.9968\n",
            "Epoch 32/40\n",
            "4035/4035 [==============================] - 4s 1ms/step - loss: 0.0145 - acc: 0.9953\n",
            "Epoch 33/40\n",
            "4035/4035 [==============================] - 4s 1ms/step - loss: 0.0172 - acc: 0.9950\n",
            "Epoch 34/40\n",
            "4035/4035 [==============================] - 4s 1ms/step - loss: 0.0155 - acc: 0.9955\n",
            "Epoch 35/40\n",
            "4035/4035 [==============================] - 4s 1ms/step - loss: 0.0157 - acc: 0.9953\n",
            "Epoch 36/40\n",
            "4035/4035 [==============================] - 4s 1ms/step - loss: 0.0172 - acc: 0.9953\n",
            "Epoch 37/40\n",
            "4035/4035 [==============================] - 4s 1ms/step - loss: 0.0177 - acc: 0.9938\n",
            "Epoch 38/40\n",
            "4035/4035 [==============================] - 4s 1ms/step - loss: 0.0233 - acc: 0.9936\n",
            "Epoch 39/40\n",
            "4035/4035 [==============================] - 4s 1ms/step - loss: 0.0283 - acc: 0.9884\n",
            "Epoch 40/40\n",
            "4035/4035 [==============================] - 4s 1ms/step - loss: 0.0272 - acc: 0.9898\n"
          ],
          "name": "stdout"
        }
      ]
    },
    {
      "cell_type": "code",
      "metadata": {
        "id": "Tb1xnpIP6chc",
        "colab_type": "code",
        "colab": {}
      },
      "source": [
        "model.save('model5.h5')"
      ],
      "execution_count": null,
      "outputs": []
    },
    {
      "cell_type": "code",
      "metadata": {
        "id": "BGWCOlWm8HPR",
        "colab_type": "code",
        "colab": {
          "base_uri": "https://localhost:8080/",
          "height": 545
        },
        "outputId": "864c6200-8274-44ae-eeab-786b81e111c3"
      },
      "source": [
        "import matplotlib.pyplot as plt\n",
        "\n",
        "acc = history.history['acc']\n",
        "loss = history.history['loss']\n",
        "\n",
        "epochs = range(1, len(acc)+1)\n",
        "\n",
        "plt.plot(epochs, acc, 'bo', label='Training accuracy')\n",
        "plt.title('Training  accuracy')\n",
        "plt.legend()\n",
        "\n",
        "plt.figure()\n",
        "\n",
        "plt.plot(epochs, loss, 'bo', label='Training loss')\n",
        "plt.title('Training loss')\n",
        "plt.legend()\n",
        "\n",
        "plt.show()"
      ],
      "execution_count": null,
      "outputs": [
        {
          "output_type": "display_data",
          "data": {
            "image/png": "[encoded data removed]",
            "text/plain": [
              "<Figure size 432x288 with 1 Axes>"
            ]
          },
          "metadata": {
            "tags": [],
            "needs_background": "light"
          }
        },
        {
          "output_type": "display_data",
          "data": {
            "image/png": "[encoded data removed]",
            "text/plain": [
              "<Figure size 432x288 with 1 Axes>"
            ]
          },
          "metadata": {
            "tags": [],
            "needs_background": "light"
          }
        }
      ]
    },
    {
      "cell_type": "code",
      "metadata": {
        "id": "gChu1YqxuBmX",
        "colab_type": "code",
        "colab": {
          "base_uri": "https://localhost:8080/",
          "height": 319
        },
        "outputId": "6464f187-942f-48a8-adb0-61a6d4399bf7"
      },
      "source": [
        "def visualize_predictions(classifier):\n",
        "        path = 'gdrive/My Drive/backup/data/test/wallet'\n",
        "\n",
        "        # Get picture\n",
        "        random_img = random.choice(os.listdir(path))\n",
        "        img_path = os.path.join(path, random_img)\n",
        "        img = image.load_img(img_path, target_size=(img_width, img_height))\n",
        "        img_tensor = image.img_to_array(img)  # Image data encoded as integers in the 0–255 range\n",
        "        img_tensor /= 255.  # Normalize to [0,1] for plt.imshow application\n",
        "\n",
        "        # Extract features\n",
        "        features = conv_base.predict(img_tensor.reshape(1,img_width, img_height, 3))\n",
        "\n",
        "        # Make prediction\n",
        "        try:\n",
        "            prediction = classifier.predict(features)\n",
        "        except:\n",
        "            prediction = classifier.predict(features.reshape(1, 7*7*512))\n",
        "\n",
        "        # Show picture\n",
        "        plt.imshow(img_tensor)\n",
        "        plt.show()\n",
        "        print(prediction)\n",
        "        \n",
        "visualize_predictions(model)"
      ],
      "execution_count": null,
      "outputs": [
        {
          "output_type": "display_data",
          "data": {
            "image/png": "[encoded data removed]",
            "text/plain": [
              "<Figure size 432x288 with 1 Axes>"
            ]
          },
          "metadata": {
            "tags": [],
            "needs_background": "light"
          }
        },
        {
          "output_type": "stream",
          "text": [
            "[[1.11947407e-09 3.30622707e-09 3.32502692e-10 4.00032507e-11\n",
            "  1.14261184e-10 8.10658455e-01 7.27141058e-14 4.66047340e-13\n",
            "  1.93144089e-07]]\n"
          ],
          "name": "stdout"
        }
      ]
    }
  ]
}